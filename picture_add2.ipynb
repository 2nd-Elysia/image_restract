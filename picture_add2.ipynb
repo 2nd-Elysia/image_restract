{
 "cells": [
  {
   "cell_type": "markdown",
   "metadata": {},
   "source": [
    "### 直接用to的2部分补充222的2部分"
   ]
  },
  {
   "cell_type": "code",
   "execution_count": 3,
   "metadata": {},
   "outputs": [],
   "source": [
    "import cv2\n",
    "import numpy as np\n",
    "from PIL import Image"
   ]
  },
  {
   "cell_type": "code",
   "execution_count": 4,
   "metadata": {},
   "outputs": [],
   "source": [
    "# 读取两个输入图像\n",
    "image1 = cv2.imread(r'transformed2to222.png')\n",
    "image2 = cv2.imread(r'images\\222.png')\n",
    "mask1 = cv2.imread('mask2to222.png')\n",
    "mask2 = cv2.imread('mask222.png')"
   ]
  },
  {
   "cell_type": "code",
   "execution_count": 5,
   "metadata": {},
   "outputs": [
    {
     "name": "stdout",
     "output_type": "stream",
     "text": [
      "两张图像无重叠区域\n"
     ]
    }
   ],
   "source": [
    "overlap = mask1 & mask2  \n",
    "if overlap.any():\n",
    "    print('两张图像有重叠区域')\n",
    "else:\n",
    "    print('两张图像无重叠区域')"
   ]
  },
  {
   "cell_type": "code",
   "execution_count": 6,
   "metadata": {},
   "outputs": [],
   "source": [
    "def overlay_mask(image1, image2):\n",
    "    # 在这里进行图像叠加，可以是简单的像素级叠加\n",
    "    blended_image = cv2.addWeighted(image1, 0.5, image2, 0.5, 0)\n",
    "    return blended_image\n",
    "\n",
    "mask = overlay_mask(mask1,mask2)\n",
    "pillow_image_mask = Image.fromarray(cv2.cvtColor(mask, cv2.COLOR_BGR2RGB))\n",
    "pillow_image_mask.show()"
   ]
  },
  {
   "cell_type": "code",
   "execution_count": null,
   "metadata": {},
   "outputs": [],
   "source": [
    "def blend_with_mask(image1, image2, mask1, mask2):\n",
    "    # 初始化与image1大小相同的全0数组\n",
    "    masked_image1 = np.zeros_like(image1)\n",
    "    # mask1==0的位置保留image1值\n",
    "    masked_image1[mask2 != 0] = image1[mask2 != 0]\n",
    "    # 初始化与image2大小相同的全0数组\n",
    "    masked_image2 = np.zeros_like(image2)\n",
    "    # mask2==0的位置保留image2值\n",
    "    masked_image2[mask2 == 0] = image2[mask2 == 0]\n",
    "    \n",
    "    \n",
    "    blended_image = np.zeros_like(image1)\n",
    "    blended_image = cv2.addWeighted(masked_image1, 1, masked_image2, 1, 0)\n",
    "    return blended_image"
   ]
  },
  {
   "cell_type": "code",
   "execution_count": null,
   "metadata": {},
   "outputs": [],
   "source": [
    "result = blend_with_mask(image1, image2, mask1, mask2)\n",
    "pillow_image = Image.fromarray(cv2.cvtColor(result, cv2.COLOR_BGR2RGB))\n",
    "pillow_image.show()"
   ]
  },
  {
   "cell_type": "code",
   "execution_count": null,
   "metadata": {},
   "outputs": [],
   "source": [
    "pillow_image.save(\"without2to222_2.png\")"
   ]
  }
 ],
 "metadata": {
  "kernelspec": {
   "display_name": "test",
   "language": "python",
   "name": "python3"
  },
  "language_info": {
   "codemirror_mode": {
    "name": "ipython",
    "version": 3
   },
   "file_extension": ".py",
   "mimetype": "text/x-python",
   "name": "python",
   "nbconvert_exporter": "python",
   "pygments_lexer": "ipython3",
   "version": "3.10.12"
  },
  "orig_nbformat": 4
 },
 "nbformat": 4,
 "nbformat_minor": 2
}
