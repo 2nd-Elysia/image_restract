{
 "cells": [
  {
   "cell_type": "code",
   "execution_count": 23,
   "metadata": {},
   "outputs": [],
   "source": [
    "import cv2\n",
    "import numpy as np\n",
    "from PIL import Image\n",
    "import matplotlib.pyplot as plt"
   ]
  },
  {
   "cell_type": "code",
   "execution_count": 24,
   "metadata": {},
   "outputs": [],
   "source": [
    "# 读取两个输入图像\n",
    "image1 = cv2.imread('trans_image/transformed2to222.png',cv2.IMREAD_GRAYSCALE)\n",
    "image2 = cv2.imread('origin_images/222.png',cv2.IMREAD_GRAYSCALE)\n",
    "mask1 = cv2.imread('mask_image/mask2to222.png',cv2.IMREAD_GRAYSCALE)\n",
    "mask2 = cv2.imread('mask_image/mask222.png',cv2.IMREAD_GRAYSCALE)\n",
    "\n",
    "array = np.load('anti_mean.npy')\n",
    "image2 = np.clip(image2 / array,0,255)\n",
    "image2 = image2.astype(np.uint8)"
   ]
  },
  {
   "cell_type": "code",
   "execution_count": 25,
   "metadata": {},
   "outputs": [
    {
     "name": "stdout",
     "output_type": "stream",
     "text": [
      "两张图像无重叠区域\n"
     ]
    }
   ],
   "source": [
    "overlap = mask1 & mask2  \n",
    "if overlap.any():\n",
    "    print('两张图像有重叠区域')\n",
    "else:\n",
    "    print('两张图像无重叠区域')"
   ]
  },
  {
   "cell_type": "code",
   "execution_count": 26,
   "metadata": {},
   "outputs": [],
   "source": [
    "def overlay_mask(image1, image2):\n",
    "    # 在这里进行图像叠加，可以是简单的像素级叠加\n",
    "    blended_image = cv2.addWeighted(image1, 0.5, image2, 0.5, 0)\n",
    "    return blended_image\n",
    "\n",
    "mask = overlay_mask(mask1,mask2)\n",
    "pillow_image_mask = Image.fromarray(cv2.cvtColor(mask, cv2.COLOR_BGR2RGB))\n",
    "pillow_image_mask.show()"
   ]
  },
  {
   "cell_type": "code",
   "execution_count": null,
   "metadata": {},
   "outputs": [],
   "source": [
    "def blend_with_mask(image1, image2, mask1, mask2):\n",
    "    # 初始化与image1大小相同的全0数组\n",
    "    masked_image1 = np.zeros_like(image1)\n",
    "    masked_image1[mask1 == 0] = image1[mask1 == 0]\n",
    "    masked_image1[mask1 != 0] = image2[mask1 != 0]\n",
    "    return masked_image1"
   ]
  },
  {
   "cell_type": "code",
   "execution_count": null,
   "metadata": {},
   "outputs": [],
   "source": [
    "result = blend_with_mask(image1, image2, mask1, mask2)\n",
    "pillow_image = Image.fromarray(cv2.cvtColor(result, cv2.COLOR_BGR2RGB))\n",
    "pillow_image.show()"
   ]
  },
  {
   "cell_type": "code",
   "execution_count": null,
   "metadata": {},
   "outputs": [],
   "source": [
    "pillow_image.save(\"back_images/without2to222.png\")"
   ]
  }
 ],
 "metadata": {
  "kernelspec": {
   "display_name": "test",
   "language": "python",
   "name": "python3"
  },
  "language_info": {
   "codemirror_mode": {
    "name": "ipython",
    "version": 3
   },
   "file_extension": ".py",
   "mimetype": "text/x-python",
   "name": "python",
   "nbconvert_exporter": "python",
   "pygments_lexer": "ipython3",
   "version": "3.10.12"
  }
 },
 "nbformat": 4,
 "nbformat_minor": 2
}
