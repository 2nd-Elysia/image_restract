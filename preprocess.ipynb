{
 "cells": [
  {
   "cell_type": "code",
   "execution_count": 1,
   "metadata": {},
   "outputs": [
    {
     "data": {
      "text/plain": [
       "True"
      ]
     },
     "execution_count": 1,
     "metadata": {},
     "output_type": "execute_result"
    }
   ],
   "source": [
    "#下面是语义分割得到结果不完全可靠情况下进行的手动改正\n",
    "#mask标记了右边其他区域\n",
    "import numpy as np\n",
    "import cv2\n",
    "\n",
    "img = cv2.imread('output222to2.png') \n",
    "\n",
    "# 获取图片的宽度\n",
    "width = img.shape[1]  \n",
    "\n",
    "# 如果宽度大于3000像素\n",
    "if width > 3000:\n",
    "\n",
    "  # 遍历所有行\n",
    "  for i in range(img.shape[0]):\n",
    "\n",
    "    # 将第3000列之后的所有像素设置为0\n",
    "    img[i, 3000:] = 0\n",
    "\n",
    "cv2.imwrite('output222to2.png', img)"
   ]
  }
 ],
 "metadata": {
  "kernelspec": {
   "display_name": "test",
   "language": "python",
   "name": "python3"
  },
  "language_info": {
   "codemirror_mode": {
    "name": "ipython",
    "version": 3
   },
   "file_extension": ".py",
   "mimetype": "text/x-python",
   "name": "python",
   "nbconvert_exporter": "python",
   "pygments_lexer": "ipython3",
   "version": "3.10.12"
  }
 },
 "nbformat": 4,
 "nbformat_minor": 2
}
