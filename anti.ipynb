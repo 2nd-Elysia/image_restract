{
 "cells": [
  {
   "cell_type": "code",
   "execution_count": 1,
   "metadata": {},
   "outputs": [],
   "source": [
    "import cv2\n",
    "import numpy as np\n",
    "from PIL import Image\n",
    "import matplotlib.pyplot as plt"
   ]
  },
  {
   "cell_type": "code",
   "execution_count": 2,
   "metadata": {},
   "outputs": [],
   "source": [
    "# 读取灰度图像\n",
    "image = cv2.imread('B5.bmpwithr=250.bmp', cv2.IMREAD_GRAYSCALE)\n",
    "\n",
    "# 获取最亮点的像素值\n",
    "brightest_pixel_value = np.max(image)\n",
    "\n",
    "# 将图像的每个像素值除以最亮点的像素值\n",
    "normalized_image = image / brightest_pixel_value\n",
    "matric = np.array(normalized_image)\n"
   ]
  },
  {
   "cell_type": "code",
   "execution_count": 4,
   "metadata": {},
   "outputs": [],
   "source": [
    "result_array = image / matric\n",
    "\n",
    "img = Image.fromarray(result_array)\n",
    "img.show()"
   ]
  },
  {
   "cell_type": "code",
   "execution_count": null,
   "metadata": {},
   "outputs": [],
   "source": [
    "np.save(\"anti.npy\",result_array)"
   ]
  }
 ],
 "metadata": {
  "kernelspec": {
   "display_name": "test",
   "language": "python",
   "name": "python3"
  },
  "language_info": {
   "codemirror_mode": {
    "name": "ipython",
    "version": 3
   },
   "file_extension": ".py",
   "mimetype": "text/x-python",
   "name": "python",
   "nbconvert_exporter": "python",
   "pygments_lexer": "ipython3",
   "version": "3.10.12"
  }
 },
 "nbformat": 4,
 "nbformat_minor": 2
}
