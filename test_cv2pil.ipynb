{
 "cells": [
  {
   "cell_type": "code",
   "execution_count": 6,
   "metadata": {},
   "outputs": [],
   "source": [
    "\n",
    "import cv2\n",
    "from PIL import Image\n",
    "\n",
    "# 使用OpenCV读取图像\n",
    "opencv_image = cv2.imread(r'images\\2.png')\n",
    "\n",
    "# 将OpenCV图像转换为Pillow图像对象\n",
    "pillow_image = Image.fromarray(cv2.cvtColor(opencv_image, cv2.COLOR_BGR2RGB))\n",
    "pillow_image.show()\n",
    "# 在这里进行任何Pillow图像处理或操作（如果需要）\n",
    "\n",
    "# 保存Pillow图像为文件\n",
    "pillow_image.save('output_image.jpg')\n",
    "\n",
    "# 可以使用Pillow图像对象进行进一步处理或显示\n",
    "pillow_image.show()"
   ]
  }
 ],
 "metadata": {
  "kernelspec": {
   "display_name": "test",
   "language": "python",
   "name": "python3"
  },
  "language_info": {
   "codemirror_mode": {
    "name": "ipython",
    "version": 3
   },
   "file_extension": ".py",
   "mimetype": "text/x-python",
   "name": "python",
   "nbconvert_exporter": "python",
   "pygments_lexer": "ipython3",
   "version": "3.10.12"
  },
  "orig_nbformat": 4
 },
 "nbformat": 4,
 "nbformat_minor": 2
}
