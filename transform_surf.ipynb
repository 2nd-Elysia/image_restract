{
 "cells": [
  {
   "cell_type": "code",
   "execution_count": 2,
   "metadata": {},
   "outputs": [],
   "source": [
    "import cv2\n",
    "import numpy as np\n",
    "import PIL\n",
    "from PIL import Image"
   ]
  },
  {
   "cell_type": "code",
   "execution_count": 3,
   "metadata": {},
   "outputs": [],
   "source": [
    "# 1. 特征提取\n",
    "def extract_features(image):\n",
    "    feature_extractor = cv2.xfeatures2d.SURF_create()\n",
    "    keypoints, descriptors = feature_extractor.detectAndCompute(image, None)\n",
    "    return keypoints, descriptors\n",
    "\n",
    "# 2. 特征匹配\n",
    "def match_features_bf(descriptors1, descriptors2):\n",
    "    bf = cv2.BFMatcher()\n",
    "    matches = bf.knnMatch(descriptors1, descriptors2, k=2)\n",
    "    good_matches = []\n",
    "    for m, n in matches:\n",
    "        if m.distance < 0.5 * n.distance:\n",
    "            good_matches.append(m)\n",
    "    return good_matches\n",
    "\n",
    "def match_features_flann(descriptors1, descriptors2):\n",
    "    # FLANN 参数设置\n",
    "    FLANN_INDEX_KDTREE = 1\n",
    "    index_params = dict(algorithm=FLANN_INDEX_KDTREE, trees=5)\n",
    "    search_params = dict(checks=50)\n",
    "    # 创建 FLANN 匹配器\n",
    "    flann = cv2.FlannBasedMatcher(index_params, search_params)\n",
    "    # 使用 KNN 进行匹配\n",
    "    # matches = flann.knnMatch(descriptors1, descriptors2, k=2)\n",
    "    # 构建FLANN匹配器\n",
    "    # 使用 KNN 进行匹配\n",
    "    # 检查描述符是否为 None\n",
    "    if descriptors1 is not None and descriptors2 is not None:\n",
    "        # 构建FLANN匹配器\n",
    "        flann = cv2.FlannBasedMatcher(index_params, search_params)\n",
    "\n",
    "        # 使用 KNN 进行匹配\n",
    "        matches = flann.knnMatch(descriptors1.astype(np.float32), descriptors2.astype(np.float32), k=2)\n",
    "        \n",
    "        # 选择好的匹配\n",
    "        good_matches = []\n",
    "        for m, n in matches:\n",
    "            if m.distance < 0.7 * n.distance:\n",
    "                good_matches.append(m)\n",
    "    else:\n",
    "        print(\"No descriptors found.\")\n",
    "\n",
    "    # 选择好的匹配\n",
    "    good_matches = []\n",
    "    for m, n in matches:\n",
    "        if m.distance < 0.5 * n.distance:\n",
    "            good_matches.append(m)\n",
    "\n",
    "    return good_matches\n",
    "\n",
    "# 3. 变换估计\n",
    "def estimate_transform(keypoints1, keypoints2, good_matches):\n",
    "    src_pts = np.float32([keypoints1[m.queryIdx].pt for m in good_matches]).reshape(-1, 1, 2)\n",
    "    dst_pts = np.float32([keypoints2[m.trainIdx].pt for m in good_matches]).reshape(-1, 1, 2)\n",
    "    # 使用RANSAC算法估计变换矩阵\n",
    "    M, mask = cv2.findHomography(src_pts, dst_pts, cv2.RANSAC, 5.0)\n",
    "    return M\n",
    "\n",
    "#4. 变换应用\n",
    "def apply_transform(image, M):\n",
    "    # 应用估计的变换矩阵到图像\n",
    "    transformed_image = cv2.warpPerspective(image, M, (image.shape[1], image.shape[0]))\n",
    "    return transformed_image"
   ]
  },
  {
   "cell_type": "code",
   "execution_count": 4,
   "metadata": {},
   "outputs": [],
   "source": [
    "# 一次配准\n",
    "image1 = cv2.imread('origin_images/2.png', cv2.IMREAD_GRAYSCALE)\n",
    "image2 = cv2.imread('origin_images/222.png', cv2.IMREAD_GRAYSCALE)"
   ]
  },
  {
   "cell_type": "code",
   "execution_count": 5,
   "metadata": {},
   "outputs": [
    {
     "ename": "error",
     "evalue": "OpenCV(4.8.0) D:\\a\\opencv-python\\opencv-python\\opencv_contrib\\modules\\xfeatures2d\\src\\surf.cpp:1028: error: (-213:The function/feature is not implemented) This algorithm is patented and is excluded in this configuration; Set OPENCV_ENABLE_NONFREE CMake option and rebuild the library in function 'cv::xfeatures2d::SURF::create'\n",
     "output_type": "error",
     "traceback": [
      "\u001b[1;31m---------------------------------------------------------------------------\u001b[0m",
      "\u001b[1;31merror\u001b[0m                                     Traceback (most recent call last)",
      "\u001b[1;32md:\\桌面\\Image_registration\\transform_surf.ipynb 单元格 4\u001b[0m line \u001b[0;36m2\n\u001b[0;32m      <a href='vscode-notebook-cell:/d%3A/%E6%A1%8C%E9%9D%A2/Image_registration/transform_surf.ipynb#W3sZmlsZQ%3D%3D?line=0'>1</a>\u001b[0m \u001b[39m# 1. 特征提取\u001b[39;00m\n\u001b[1;32m----> <a href='vscode-notebook-cell:/d%3A/%E6%A1%8C%E9%9D%A2/Image_registration/transform_surf.ipynb#W3sZmlsZQ%3D%3D?line=1'>2</a>\u001b[0m keypoints1, descriptors1 \u001b[39m=\u001b[39m extract_features(image1)\n\u001b[0;32m      <a href='vscode-notebook-cell:/d%3A/%E6%A1%8C%E9%9D%A2/Image_registration/transform_surf.ipynb#W3sZmlsZQ%3D%3D?line=2'>3</a>\u001b[0m keypoints2, descriptors2 \u001b[39m=\u001b[39m extract_features(image2)\n\u001b[0;32m      <a href='vscode-notebook-cell:/d%3A/%E6%A1%8C%E9%9D%A2/Image_registration/transform_surf.ipynb#W3sZmlsZQ%3D%3D?line=4'>5</a>\u001b[0m \u001b[39m# 2. 特征匹配\u001b[39;00m\n",
      "\u001b[1;32md:\\桌面\\Image_registration\\transform_surf.ipynb 单元格 4\u001b[0m line \u001b[0;36m3\n\u001b[0;32m      <a href='vscode-notebook-cell:/d%3A/%E6%A1%8C%E9%9D%A2/Image_registration/transform_surf.ipynb#W3sZmlsZQ%3D%3D?line=1'>2</a>\u001b[0m \u001b[39mdef\u001b[39;00m \u001b[39mextract_features\u001b[39m(image):\n\u001b[1;32m----> <a href='vscode-notebook-cell:/d%3A/%E6%A1%8C%E9%9D%A2/Image_registration/transform_surf.ipynb#W3sZmlsZQ%3D%3D?line=2'>3</a>\u001b[0m     feature_extractor \u001b[39m=\u001b[39m cv2\u001b[39m.\u001b[39;49mxfeatures2d\u001b[39m.\u001b[39;49mSURF_create()\n\u001b[0;32m      <a href='vscode-notebook-cell:/d%3A/%E6%A1%8C%E9%9D%A2/Image_registration/transform_surf.ipynb#W3sZmlsZQ%3D%3D?line=3'>4</a>\u001b[0m     keypoints, descriptors \u001b[39m=\u001b[39m feature_extractor\u001b[39m.\u001b[39mdetectAndCompute(image, \u001b[39mNone\u001b[39;00m)\n\u001b[0;32m      <a href='vscode-notebook-cell:/d%3A/%E6%A1%8C%E9%9D%A2/Image_registration/transform_surf.ipynb#W3sZmlsZQ%3D%3D?line=4'>5</a>\u001b[0m     \u001b[39mreturn\u001b[39;00m keypoints, descriptors\n",
      "\u001b[1;31merror\u001b[0m: OpenCV(4.8.0) D:\\a\\opencv-python\\opencv-python\\opencv_contrib\\modules\\xfeatures2d\\src\\surf.cpp:1028: error: (-213:The function/feature is not implemented) This algorithm is patented and is excluded in this configuration; Set OPENCV_ENABLE_NONFREE CMake option and rebuild the library in function 'cv::xfeatures2d::SURF::create'\n"
     ]
    }
   ],
   "source": [
    "\n",
    "# 1. 特征提取\n",
    "keypoints1, descriptors1 = extract_features(image1)\n",
    "keypoints2, descriptors2 = extract_features(image2)\n",
    "\n",
    "# 2. 特征匹配\n",
    "good_matches = match_features_bf(descriptors1, descriptors2)\n",
    "\n",
    "# 3. 变换估计\n",
    "M = estimate_transform(keypoints1, keypoints2, good_matches)\n",
    "\n",
    "# 4. 变换应用\n",
    "transformed_image = apply_transform(image1, M)\n",
    "cv2.imwrite('trans_image/transformed2to222.png', transformed_image)"
   ]
  }
 ],
 "metadata": {
  "kernelspec": {
   "display_name": "test",
   "language": "python",
   "name": "python3"
  },
  "language_info": {
   "codemirror_mode": {
    "name": "ipython",
    "version": 3
   },
   "file_extension": ".py",
   "mimetype": "text/x-python",
   "name": "python",
   "nbconvert_exporter": "python",
   "pygments_lexer": "ipython3",
   "version": "3.10.12"
  }
 },
 "nbformat": 4,
 "nbformat_minor": 2
}
