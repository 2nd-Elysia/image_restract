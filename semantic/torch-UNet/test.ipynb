{
 "cells": [
  {
   "cell_type": "code",
   "execution_count": 1,
   "metadata": {},
   "outputs": [],
   "source": [
    "from PIL import Image"
   ]
  },
  {
   "cell_type": "code",
   "execution_count": 2,
   "metadata": {},
   "outputs": [
    {
     "name": "stdout",
     "output_type": "stream",
     "text": [
      "<class 'PIL.PngImagePlugin.PngImageFile'>\n"
     ]
    }
   ],
   "source": [
    "img = Image.open('img.png')\n",
    "print(type(img))"
   ]
  },
  {
   "cell_type": "code",
   "execution_count": 14,
   "metadata": {},
   "outputs": [
    {
     "name": "stdout",
     "output_type": "stream",
     "text": [
      "文件名: /home/hw/ljh/semantic/data_raw/imgs/6.png\n",
      "格式: PNG\n",
      "尺寸: (4024, 3036)\n",
      "模式: L\n",
      "通道数: 1\n"
     ]
    }
   ],
   "source": [
    "# 打开图片\n",
    "image = Image.open(\"/home/hw/ljh/semantic/data_raw/imgs/6.png\")\n",
    "\n",
    "# 获取图片信息\n",
    "print(\"文件名:\", image.filename)\n",
    "print(\"格式:\", image.format)\n",
    "print(\"尺寸:\", image.size)\n",
    "# print(\"分辨率:\", image.resolution)\n",
    "print(\"模式:\", image.mode)\n",
    "channels = len(image.getbands())\n",
    "print(\"通道数:\", channels)"
   ]
  },
  {
   "cell_type": "code",
   "execution_count": null,
   "metadata": {},
   "outputs": [],
   "source": [
    "\n",
    "import torch\n",
    "\n",
    "\n"
   ]
  }
 ],
 "metadata": {
  "kernelspec": {
   "display_name": "zh_pytorch",
   "language": "python",
   "name": "python3"
  },
  "language_info": {
   "codemirror_mode": {
    "name": "ipython",
    "version": 3
   },
   "file_extension": ".py",
   "mimetype": "text/x-python",
   "name": "python",
   "nbconvert_exporter": "python",
   "pygments_lexer": "ipython3",
   "version": "3.10.8"
  },
  "orig_nbformat": 4
 },
 "nbformat": 4,
 "nbformat_minor": 2
}
