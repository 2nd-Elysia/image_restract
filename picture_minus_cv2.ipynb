{
 "cells": [
  {
   "cell_type": "code",
   "execution_count": 1,
   "metadata": {},
   "outputs": [],
   "source": [
    "from PIL import Image\n",
    "import matplotlib.pyplot as plt\n",
    "import PIL\n",
    "import cv2\n",
    "import numpy as np"
   ]
  },
  {
   "cell_type": "code",
   "execution_count": 4,
   "metadata": {},
   "outputs": [],
   "source": [
    "image1 = cv2.imread('2without2to222.png')\n",
    "image2 = cv2.imread('origin_images/222.png')"
   ]
  },
  {
   "cell_type": "code",
   "execution_count": 5,
   "metadata": {},
   "outputs": [],
   "source": [
    "# 计算图像差异\n",
    "image_diff = cv2.absdiff(image1, image2)\n",
    "pillow_image = Image.fromarray(cv2.cvtColor(image_diff, cv2.COLOR_BGR2RGB))\n",
    "pillow_image.show()\n",
    "pillow_image.save(\"minus_out.png\")"
   ]
  },
  {
   "cell_type": "code",
   "execution_count": 6,
   "metadata": {},
   "outputs": [
    {
     "name": "stdout",
     "output_type": "stream",
     "text": [
      "像素值为0的点的数量： 933384\n",
      "像素为0的点的占比 ： 7.64%\n"
     ]
    }
   ],
   "source": [
    "# 将图像转换为灰度图像\n",
    "if len(image_diff.shape) == 3:\n",
    "    image_diff = cv2.cvtColor(image_diff, cv2.COLOR_BGR2GRAY)\n",
    "# 计算像素值为零的点\n",
    "zero_pixel_count = image_diff.size - cv2.countNonZero(image_diff)\n",
    "print(\"像素值为0的点的数量：\", zero_pixel_count)\n",
    "print(\"像素为0的点的占比 ：\",f'{(zero_pixel_count/image_diff.size) :.2%}')"
   ]
  }
 ],
 "metadata": {
  "kernelspec": {
   "display_name": "test",
   "language": "python",
   "name": "python3"
  },
  "language_info": {
   "codemirror_mode": {
    "name": "ipython",
    "version": 3
   },
   "file_extension": ".py",
   "mimetype": "text/x-python",
   "name": "python",
   "nbconvert_exporter": "python",
   "pygments_lexer": "ipython3",
   "version": "3.10.12"
  },
  "orig_nbformat": 4
 },
 "nbformat": 4,
 "nbformat_minor": 2
}
